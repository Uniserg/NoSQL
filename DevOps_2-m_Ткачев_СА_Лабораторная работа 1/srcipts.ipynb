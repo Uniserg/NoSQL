{
 "cells": [
  {
   "cell_type": "code",
   "execution_count": 1,
   "metadata": {},
   "outputs": [
    {
     "name": "stdout",
     "output_type": "stream",
     "text": [
      "Collecting pymongo\n",
      "  Downloading pymongo-4.6.0-cp39-cp39-win_amd64.whl (472 kB)\n",
      "Collecting dnspython<3.0.0,>=1.16.0\n",
      "  Downloading dnspython-2.4.2-py3-none-any.whl (300 kB)\n",
      "Installing collected packages: dnspython, pymongo\n",
      "Successfully installed dnspython-2.4.2 pymongo-4.6.0\n",
      "Note: you may need to restart the kernel to use updated packages.\n"
     ]
    },
    {
     "name": "stderr",
     "output_type": "stream",
     "text": [
      "WARNING: You are using pip version 21.3.1; however, version 23.3.1 is available.\n",
      "You should consider upgrading via the 'c:\\Users\\sergi\\PycharmProjects\\PythonEnv\\venv\\Scripts\\python.exe -m pip install --upgrade pip' command.\n"
     ]
    }
   ],
   "source": [
    "%pip install pymongo"
   ]
  },
  {
   "cell_type": "code",
   "execution_count": 134,
   "metadata": {},
   "outputs": [
    {
     "name": "stdout",
     "output_type": "stream",
     "text": [
      "ошибка назначения _id при {}\n"
     ]
    }
   ],
   "source": [
    "from pymongo import MongoClient\n",
    "import json\n",
    "\n",
    "# Подключение к MongoDB\n",
    "client = MongoClient('localhost', 27017)\n",
    "\n",
    "\n",
    "client.drop_database(\"University\")  # Удаление базы данных если существует уже\n",
    "\n",
    "db = client['University']\n",
    "\n",
    "# Функция для вставки ответа в коллекцию Answers\n",
    "def insert_to_answer(id, ans):\n",
    "    db.Answers.update_one(\n",
    "        {\"_id\": id},\n",
    "        {\"$set\": {\"answer\": ans}},\n",
    "        upsert=True\n",
    "    )\n",
    "    return ans\n",
    "\n",
    "\n",
    "# 1. Импортируйте Students.json в локальный MongoDB, DB University, Collection Students.\n",
    "# Ключ задайте по полю Номер.\n",
    "students = db['Students']  # создание коллекции Students\n",
    "\n",
    "\n",
    "def load_students_data():\n",
    "    '''\n",
    "    Функция загрузки данных в коллекцию\n",
    "    '''\n",
    "    with open(\"Students.json\", encoding=\"utf-8-sig\") as f:\n",
    "        students_json = json.load(f)\n",
    "        for student in students_json:\n",
    "            try:\n",
    "                student['_id'] = student['Номер']\n",
    "            except:\n",
    "                print(f'ошибка назначения _id при {student}')\n",
    "        students.insert_many(students_json)\n",
    "\n",
    "\n",
    "load_students_data()\n",
    "\n",
    "# 2. Выведите статистику по DB. Какое общее количество объектов?\n",
    "insert_to_answer(2, db.command('dbstats')['objects'])\n",
    "\n",
    "# 3. Какое общее количество документов в коллекции Students?\n",
    "insert_to_answer(3, db.Students.count_documents({}))\n",
    "\n",
    "# 4. Сколько студентов обучается на специальности Математика?\n",
    "insert_to_answer(4, db.Students.count_documents(\n",
    "    {\"Специальность\": \"Математика\"}))\n",
    "\n",
    "# 5. Сколько студентов обучается на специальности Математика на втором курсе?\n",
    "insert_to_answer(5, db.Students.count_documents(\n",
    "    {\"Специальность\": \"Математика\", \"Курс\": 2}))\n",
    "\n",
    "# 6. Сколько студентов обучается на специальности Математика кроме второго курса?\n",
    "insert_to_answer(6, db.Students.count_documents(\n",
    "    {\"Специальность\": \"Математика\", \"Курс\": {\"$ne\": 2}}))\n",
    "\n",
    "# 7. Сколько студентов обучается на специальности Математика старше третьего курса?\n",
    "insert_to_answer(7, db.Students.count_documents(\n",
    "    {\"Специальность\": \"Математика\", \"Курс\": {\"$gt\": 3}}))\n",
    "\n",
    "# 8. Сколько студентов обучается на специальности Юриспруденция и Экономика кроме третьего курса?\n",
    "insert_to_answer(8, db.Students.count_documents({\"$or\": [\n",
    "                 {\"Специальность\": \"Юриспруденция\"}, {\"Специальность\": \"Экономика\"}], \"Курс\": {\"$ne\": 3}}))\n",
    "\n",
    "# 9. Граждане скольких стран обучаются в ВУЗе?\n",
    "insert_to_answer(9, len(db.Students.distinct(\"Гражданство\")))\n",
    "\n",
    "# 10. Вывести в файл 10 первых документов из коллекции Students только с полями _id, Факультет, Гражданство. Отсортировать по полю Гражданство.\n",
    "result = db.Students.find({}, {\"_id\": 1, \"Факультет\": 1, \"Гражданство\": 1}).sort(\n",
    "    \"Гражданство\", 1).limit(10)\n",
    "insert_to_answer(10, list(result))\n",
    "\n",
    "# 11. Импорт Languages2.json в коллекцию Languages2\n",
    "with open(\"Languages2.json\", encoding=\"utf-8-sig\") as f:\n",
    "    languages_json = json.load(f)\n",
    "db.Languages2.insert_many(languages_json)\n",
    "\n",
    "# Создание объекта view для коллекций Students и Languages2 с JOIN-ом\n",
    "pipeline = [\n",
    "    {\n",
    "        \"$lookup\": {\n",
    "            \"from\": \"Languages2\",\n",
    "            \"localField\": \"idLanguage\",\n",
    "            \"foreignField\": \"_id\",\n",
    "            \"as\": \"languageInfo\"\n",
    "        }\n",
    "    },\n",
    "    {\n",
    "        \"$unwind\": \"$languageInfo\"\n",
    "    },\n",
    "    {\n",
    "        \"$addFields\": {\"Языки\": \"$languageInfo.Languages\"}\n",
    "    },\n",
    "    {\n",
    "        \"$project\": {\n",
    "            \"languageInfo\": 0,\n",
    "            \"idLanguage\": 0\n",
    "        }\n",
    "    }\n",
    "]\n",
    "db.create_collection(\"StudentsLanguages\", viewOn=\"Students\", pipeline=pipeline)\n",
    "\n",
    "# 12. Какие языки изучает студент 1032102469?\n",
    "result = db.StudentsLanguages.find(\n",
    "    {\"Номер\": \"1032102469\"}, {\"Языки\": 1, \"_id\": 0})\n",
    "insert_to_answer(12, result[0][\"Языки\"])\n",
    "\n",
    "# 13. Сколько студентов изучают какие-либо языки?\n",
    "insert_to_answer(13, db.Students.count_documents(\n",
    "    {\"idLanguage\": {\"$exists\": True, \"$ne\": []}}))\n",
    "\n",
    "# 14. Сколько студентов не изучают никаких языков?\n",
    "insert_to_answer(14,  db.Students.count_documents({ \"idLanguage\": { \"$exists\": False } }))\n",
    "\n",
    "# 15. Сколько студентов изучают немецкий язык?\n",
    "insert_to_answer(\n",
    "    15, db.StudentsLanguages.count_documents({\"Языки\": \"немецкий\"}))\n",
    "\n",
    "# 16. Какой _id у документа в коллекции Languages2, содержащего массив из трех языков?\n",
    "result = db.Languages2.find({\"Languages\": {\"$size\": 3}}, {\"_id\": 1})\n",
    "insert_to_answer(16, result[0][\"_id\"])\n",
    "\n",
    "# 17. Сколько студентов изучают три языка?\n",
    "insert_to_answer(17, db.StudentsLanguages.count_documents(\n",
    "    {\"Языки\": {\"$size\": 3}}))\n",
    "\n",
    "# 18. Сколько студентов изучают пять языков?\n",
    "insert_to_answer(18, db.Languages2.count_documents(\n",
    "    {\"Languages\": {\"$size\": 5}}))\n",
    "\n",
    "# 19. Создайте индексы в коллекции Students для нескольких полей и один составной индекс.\n",
    "db.Students.create_index([(\"Факультет\", 1)])\n",
    "db.Students.create_index([(\"Специальность\", 1)])\n",
    "db.Students.create_index([(\"Курс\", 1)])\n",
    "db.Students.create_index([(\"Факультет\", 1), (\"Специальность\", 1), (\"Курс\", 1)])\n",
    "\n",
    "# 20. Увеличьте всем студентам курс на 1. Максимальный курс может быть 6.\n",
    "db.Students.update_many({\"Курс\": {\"$lt\": 6}}, {\"$inc\": {\"Курс\": 1}})\n",
    "result = db.Students.find().skip(499).limit(2000)\n",
    "insert_to_answer(20, list(result))\n",
    "\n",
    "# 21. Сколько студентов поступило в 2009 году?\n",
    "insert_to_answer(21, db.Students.count_documents(\n",
    "    {\"Номер\": {\"$regex\": \"^.{3}209.*$\"}}))\n",
    "\n",
    "# 22. Сколько студентов поступило с 2000 по 2005 годы?\n",
    "insert_to_answer(22, db.Students.count_documents(\n",
    "    {\"Номер\": {\"$regex\": \"^.{3}20[0-5].*$\"}}))\n",
    "\n",
    "# 23. Замените в файле Students.json несколько значений Курс с числового на текстовый и загрузите в новую коллекцию Students2\n",
    "# У первых 5 записей меняем тип на строковый\n",
    "db.Students.aggregate([{\"$match\": {}}, {\"$out\": \"Students2\"}])\n",
    "for doc in list(db['Students'].find({}).limit(5)):\n",
    "    db['Students2'].update_one(\n",
    "    { \"_id\": doc['_id'] },\n",
    "    { \"$set\": { \"Курс\": str(doc['Курс']) } })\n",
    "\n",
    "# Вычислите количество значений Курс числовое и текстовое\n",
    "result = list(db.Students2.aggregate([\n",
    "    {\"$group\": {\"_id\": {\"$type\": \"$Курс\"}, \"count\": {\"$sum\": 1}}},\n",
    "    {\"$project\": {\"type\": \"$_id\", \"count\": \"$count\", \"_id\": 0}}\n",
    "]))\n",
    "insert_to_answer(23, result)\n",
    "\n",
    "# 24. Добавьте в коллекцию Students каждому студенту соответствующий массив Languages. Выведите в файл с 100 по 200 записи\n",
    "result = db.StudentsLanguages.find().skip(99).limit(200)\n",
    "insert_to_answer(24, list(result))\n",
    "\n",
    "\n",
    "from bson import json_util\n",
    "answers_data = list(db.Answers.find())\n",
    "\n",
    "# Экспорт данных в JSON файл\n",
    "with open('answers-python.json', 'w', encoding='utf-8') as json_file:\n",
    "    json.dump(answers_data, json_file, default=json_util.default, ensure_ascii=False, indent=2)\n",
    "\n",
    "# Закрываем соединение с MongoDB\n",
    "client.close()"
   ]
  },
  {
   "cell_type": "code",
   "execution_count": 18,
   "metadata": {},
   "outputs": [],
   "source": [
    "# from bson import json_util\n",
    "\n",
    "# # Подключение к MongoDB\n",
    "# client = MongoClient('mongodb://localhost:27017/')\n",
    "# db = client['University']\n",
    "\n",
    "\n",
    "# # Запрос для получения данных из коллекции Answers\n",
    "# answers_data = list(db.Answers.find())\n",
    "\n",
    "# # Экспорт данных в JSON файл\n",
    "# with open('answers_export.json', 'w', encoding='utf-8') as json_file:\n",
    "#     json.dump(answers_data, json_file, default=json_util.default, ensure_ascii=False, indent=2)\n",
    "\n",
    "# # # Закрываем соединение с MongoDB\n",
    "# client.close()"
   ]
  },
  {
   "cell_type": "code",
   "execution_count": 136,
   "metadata": {},
   "outputs": [],
   "source": [
    "file1_path = \"./answers-js.json\"\n",
    "file2_path = \"./answers-python.json\"\n",
    "\n",
    "\n",
    "with open(file1_path, 'r', encoding=\"utf-8-sig\") as file1:\n",
    "    data1 = json.load(file1)\n",
    "\n",
    "with open(file2_path, 'r', encoding=\"utf-8-sig\") as file2:\n",
    "    data2 = json.load(file2)"
   ]
  },
  {
   "cell_type": "code",
   "execution_count": 137,
   "metadata": {},
   "outputs": [],
   "source": [
    "data1_dict = {doc['_id']:doc['answer'] for doc in data1}\n",
    "data2_dict = {doc['_id']:doc['answer'] for doc in data2}"
   ]
  },
  {
   "cell_type": "code",
   "execution_count": 138,
   "metadata": {},
   "outputs": [
    {
     "name": "stdout",
     "output_type": "stream",
     "text": [
      "10\n",
      "[{'_id': '6568be35c58f3796981faad2'}, {'_id': '1032105325', 'Гражданство': '(КНДР) Корейская Народно - Демократическая Республика', 'Факультет': 'Инженерный'}, {'_id': '1032055006', 'Гражданство': '(КНДР) Корейская Народно - Демократическая Республика', 'Факультет': 'Экономический'}, {'_id': '1032095065', 'Гражданство': '(КНДР) Корейская Народно - Демократическая Республика', 'Факультет': 'Филологический'}, {'_id': '1032125215', 'Гражданство': '(КНДР) Корейская Народно - Демократическая Республика', 'Факультет': 'Филологический'}, {'_id': '1032135063', 'Гражданство': '(КНДР) Корейская Народно - Демократическая Республика', 'Факультет': 'Институт иностранных языков'}, {'_id': '1032145164', 'Гражданство': '(КНДР) Корейская Народно - Демократическая Республика', 'Факультет': 'Физико-математических  и естественных наук'}, {'_id': '1032105324', 'Гражданство': '(КНДР) Корейская Народно - Демократическая Республика', 'Факультет': 'Филологический'}, {'_id': '1032095152', 'Гражданство': '(КНДР) Корейская Народно - Демократическая Республика', 'Факультет': 'Филологический'}, {'_id': '1032105181', 'Гражданство': '(КНДР) Корейская Народно - Демократическая Республика', 'Факультет': 'Филологический'}]\n",
      "[{'_id': {'$oid': '6568beb5324013f2dc6900cf'}}, {'_id': '1032105325', 'Гражданство': '(КНДР) Корейская Народно - Демократическая Республика', 'Факультет': 'Инженерный'}, {'_id': '1032055006', 'Гражданство': '(КНДР) Корейская Народно - Демократическая Республика', 'Факультет': 'Экономический'}, {'_id': '1032095065', 'Гражданство': '(КНДР) Корейская Народно - Демократическая Республика', 'Факультет': 'Филологический'}, {'_id': '1032125215', 'Гражданство': '(КНДР) Корейская Народно - Демократическая Республика', 'Факультет': 'Филологический'}, {'_id': '1032135063', 'Гражданство': '(КНДР) Корейская Народно - Демократическая Республика', 'Факультет': 'Институт иностранных языков'}, {'_id': '1032145164', 'Гражданство': '(КНДР) Корейская Народно - Демократическая Республика', 'Факультет': 'Физико-математических  и естественных наук'}, {'_id': '1032105324', 'Гражданство': '(КНДР) Корейская Народно - Демократическая Республика', 'Факультет': 'Филологический'}, {'_id': '1032095152', 'Гражданство': '(КНДР) Корейская Народно - Демократическая Республика', 'Факультет': 'Филологический'}, {'_id': '1032105181', 'Гражданство': '(КНДР) Корейская Народно - Демократическая Республика', 'Факультет': 'Филологический'}]\n"
     ]
    }
   ],
   "source": [
    "for k in data1_dict:\n",
    "    \n",
    "    if data1_dict[k] != data2_dict[k]:\n",
    "        print(k)\n",
    "        print(data1_dict[k])\n",
    "        print(data2_dict[k])"
   ]
  },
  {
   "cell_type": "code",
   "execution_count": 139,
   "metadata": {},
   "outputs": [
    {
     "data": {
      "text/plain": [
       "True"
      ]
     },
     "execution_count": 139,
     "metadata": {},
     "output_type": "execute_result"
    }
   ],
   "source": [
    "data1_dict[10][1:] == data2_dict[10][1:] # В 10 тоже совпадают ответы"
   ]
  }
 ],
 "metadata": {
  "kernelspec": {
   "display_name": "venv",
   "language": "python",
   "name": "python3"
  },
  "language_info": {
   "codemirror_mode": {
    "name": "ipython",
    "version": 3
   },
   "file_extension": ".py",
   "mimetype": "text/x-python",
   "name": "python",
   "nbconvert_exporter": "python",
   "pygments_lexer": "ipython3",
   "version": "3.9.12"
  },
  "orig_nbformat": 4,
  "vscode": {
   "interpreter": {
    "hash": "c876911efdc004113c19aa2bbaad781e172e0ce4d8cf3315cbeaf7ff2a814729"
   }
  }
 },
 "nbformat": 4,
 "nbformat_minor": 2
}
